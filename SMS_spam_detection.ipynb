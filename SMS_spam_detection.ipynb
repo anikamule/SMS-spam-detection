{
  "cells": [
    {
      "cell_type": "markdown",
      "metadata": {
        "id": "_bphECiUa9zw"
      },
      "source": [
        "# Lab 5: Spam Detection\n",
        "\n",
        "In this assignment, we will build a recurrent neural network to classify a SMS text message\n",
        "as \"spam\" or \"not spam\". In the process, you will\n",
        "    \n",
        "1. Clean and process text data for machine learning.\n",
        "2. Understand and implement a character-level recurrent neural network.\n",
        "3. Use torchtext to build recurrent neural network models.\n",
        "4. Understand batching for a recurrent neural network, and use torchtext to implement RNN batching.\n",
        "\n",
        "### What to submit\n",
        "\n",
        "Submit a PDF file containing all your code, outputs, and write-up. You can produce a PDF of your Google Colab file by going to File > Print and then save as PDF. The Colab instructions have more information.\n",
        "\n",
        "Do not submit any other files produced by your code.\n",
        "\n",
        "Include a link to your colab file in your submission."
      ]
    },
    {
      "cell_type": "markdown",
      "metadata": {
        "id": "rWiUqJJTa9z6"
      },
      "source": [
        "## Colab Link\n",
        "\n",
        "Include a link to your Colab file here. If you would like the TA to look at your\n",
        "Colab file in case your solutions are cut off, **please make sure that your Colab\n",
        "file is publicly accessible at the time of submission**."
      ]
    },
    {
      "cell_type": "markdown",
      "metadata": {
        "id": "MMSE6BlBnNd3"
      },
      "source": [
        "Colab Link:\n",
        "https://colab.research.google.com/drive/1BZEraP33w9TQfTtrSFUZoTJmMBXuFRU7?usp=sharing"
      ]
    },
    {
      "cell_type": "code",
      "source": [
        "# html file\n",
        "%%shell\n",
        "jupyter nbconvert --to html \"/content/Lab5_AnikaMule.ipynb\""
      ],
      "metadata": {
        "colab": {
          "base_uri": "https://localhost:8080/"
        },
        "id": "EwFqLUmyMkjj",
        "outputId": "52d9dc83-588f-4f82-91b3-0bf1af246b12"
      },
      "execution_count": null,
      "outputs": [
        {
          "output_type": "stream",
          "name": "stdout",
          "text": [
            "[NbConvertApp] Converting notebook /content/Lab5_AnikaMule.ipynb to html\n",
            "[NbConvertApp] Writing 775775 bytes to /content/Lab5_AnikaMule.html\n"
          ]
        },
        {
          "output_type": "execute_result",
          "data": {
            "text/plain": []
          },
          "metadata": {},
          "execution_count": 26
        }
      ]
    },
    {
      "cell_type": "markdown",
      "metadata": {
        "id": "YqnjDfbYnNd4"
      },
      "source": [
        "As we are using the older version of the torchtext, please run the following to downgrade the torchtext version:"
      ]
    },
    {
      "cell_type": "markdown",
      "metadata": {
        "id": "rKVwMT1gnNd5"
      },
      "source": [
        "!pip install -U torch==1.8.0+cu111 torchtext==0.9.0 -f https://download.pytorch.org/whl/torch_stable.html"
      ]
    },
    {
      "cell_type": "code",
      "source": [
        "!pip install torchtext==0.6"
      ],
      "metadata": {
        "colab": {
          "base_uri": "https://localhost:8080/"
        },
        "id": "rhyCaXx4snXX",
        "outputId": "8f4b135d-70ca-4187-90e4-34a8ca13847a"
      },
      "execution_count": null,
      "outputs": [
        {
          "output_type": "stream",
          "name": "stdout",
          "text": [
            "Collecting torchtext==0.6\n",
            "  Downloading torchtext-0.6.0-py3-none-any.whl.metadata (6.3 kB)\n",
            "Requirement already satisfied: tqdm in /usr/local/lib/python3.10/dist-packages (from torchtext==0.6) (4.66.4)\n",
            "Requirement already satisfied: requests in /usr/local/lib/python3.10/dist-packages (from torchtext==0.6) (2.31.0)\n",
            "Requirement already satisfied: torch in /usr/local/lib/python3.10/dist-packages (from torchtext==0.6) (2.3.1+cu121)\n",
            "Requirement already satisfied: numpy in /usr/local/lib/python3.10/dist-packages (from torchtext==0.6) (1.25.2)\n",
            "Requirement already satisfied: six in /usr/local/lib/python3.10/dist-packages (from torchtext==0.6) (1.16.0)\n",
            "Requirement already satisfied: sentencepiece in /usr/local/lib/python3.10/dist-packages (from torchtext==0.6) (0.1.99)\n",
            "Requirement already satisfied: charset-normalizer<4,>=2 in /usr/local/lib/python3.10/dist-packages (from requests->torchtext==0.6) (3.3.2)\n",
            "Requirement already satisfied: idna<4,>=2.5 in /usr/local/lib/python3.10/dist-packages (from requests->torchtext==0.6) (3.7)\n",
            "Requirement already satisfied: urllib3<3,>=1.21.1 in /usr/local/lib/python3.10/dist-packages (from requests->torchtext==0.6) (2.0.7)\n",
            "Requirement already satisfied: certifi>=2017.4.17 in /usr/local/lib/python3.10/dist-packages (from requests->torchtext==0.6) (2024.7.4)\n",
            "Requirement already satisfied: filelock in /usr/local/lib/python3.10/dist-packages (from torch->torchtext==0.6) (3.15.4)\n",
            "Requirement already satisfied: typing-extensions>=4.8.0 in /usr/local/lib/python3.10/dist-packages (from torch->torchtext==0.6) (4.12.2)\n",
            "Requirement already satisfied: sympy in /usr/local/lib/python3.10/dist-packages (from torch->torchtext==0.6) (1.13.1)\n",
            "Requirement already satisfied: networkx in /usr/local/lib/python3.10/dist-packages (from torch->torchtext==0.6) (3.3)\n",
            "Requirement already satisfied: jinja2 in /usr/local/lib/python3.10/dist-packages (from torch->torchtext==0.6) (3.1.4)\n",
            "Requirement already satisfied: fsspec in /usr/local/lib/python3.10/dist-packages (from torch->torchtext==0.6) (2023.6.0)\n",
            "Collecting nvidia-cuda-nvrtc-cu12==12.1.105 (from torch->torchtext==0.6)\n",
            "  Using cached nvidia_cuda_nvrtc_cu12-12.1.105-py3-none-manylinux1_x86_64.whl.metadata (1.5 kB)\n",
            "Collecting nvidia-cuda-runtime-cu12==12.1.105 (from torch->torchtext==0.6)\n",
            "  Using cached nvidia_cuda_runtime_cu12-12.1.105-py3-none-manylinux1_x86_64.whl.metadata (1.5 kB)\n",
            "Collecting nvidia-cuda-cupti-cu12==12.1.105 (from torch->torchtext==0.6)\n",
            "  Using cached nvidia_cuda_cupti_cu12-12.1.105-py3-none-manylinux1_x86_64.whl.metadata (1.6 kB)\n",
            "Collecting nvidia-cudnn-cu12==8.9.2.26 (from torch->torchtext==0.6)\n",
            "  Using cached nvidia_cudnn_cu12-8.9.2.26-py3-none-manylinux1_x86_64.whl.metadata (1.6 kB)\n",
            "Collecting nvidia-cublas-cu12==12.1.3.1 (from torch->torchtext==0.6)\n",
            "  Using cached nvidia_cublas_cu12-12.1.3.1-py3-none-manylinux1_x86_64.whl.metadata (1.5 kB)\n",
            "Collecting nvidia-cufft-cu12==11.0.2.54 (from torch->torchtext==0.6)\n",
            "  Using cached nvidia_cufft_cu12-11.0.2.54-py3-none-manylinux1_x86_64.whl.metadata (1.5 kB)\n",
            "Collecting nvidia-curand-cu12==10.3.2.106 (from torch->torchtext==0.6)\n",
            "  Using cached nvidia_curand_cu12-10.3.2.106-py3-none-manylinux1_x86_64.whl.metadata (1.5 kB)\n",
            "Collecting nvidia-cusolver-cu12==11.4.5.107 (from torch->torchtext==0.6)\n",
            "  Using cached nvidia_cusolver_cu12-11.4.5.107-py3-none-manylinux1_x86_64.whl.metadata (1.6 kB)\n",
            "Collecting nvidia-cusparse-cu12==12.1.0.106 (from torch->torchtext==0.6)\n",
            "  Using cached nvidia_cusparse_cu12-12.1.0.106-py3-none-manylinux1_x86_64.whl.metadata (1.6 kB)\n",
            "Collecting nvidia-nccl-cu12==2.20.5 (from torch->torchtext==0.6)\n",
            "  Using cached nvidia_nccl_cu12-2.20.5-py3-none-manylinux2014_x86_64.whl.metadata (1.8 kB)\n",
            "Collecting nvidia-nvtx-cu12==12.1.105 (from torch->torchtext==0.6)\n",
            "  Using cached nvidia_nvtx_cu12-12.1.105-py3-none-manylinux1_x86_64.whl.metadata (1.7 kB)\n",
            "Requirement already satisfied: triton==2.3.1 in /usr/local/lib/python3.10/dist-packages (from torch->torchtext==0.6) (2.3.1)\n",
            "Collecting nvidia-nvjitlink-cu12 (from nvidia-cusolver-cu12==11.4.5.107->torch->torchtext==0.6)\n",
            "  Downloading nvidia_nvjitlink_cu12-12.5.82-py3-none-manylinux2014_x86_64.whl.metadata (1.5 kB)\n",
            "Requirement already satisfied: MarkupSafe>=2.0 in /usr/local/lib/python3.10/dist-packages (from jinja2->torch->torchtext==0.6) (2.1.5)\n",
            "Requirement already satisfied: mpmath<1.4,>=1.1.0 in /usr/local/lib/python3.10/dist-packages (from sympy->torch->torchtext==0.6) (1.3.0)\n",
            "Downloading torchtext-0.6.0-py3-none-any.whl (64 kB)\n",
            "\u001b[2K   \u001b[90m━━━━━━━━━━━━━━━━━━━━━━━━━━━━━━━━━━━━━━━━\u001b[0m \u001b[32m64.2/64.2 kB\u001b[0m \u001b[31m958.7 kB/s\u001b[0m eta \u001b[36m0:00:00\u001b[0m\n",
            "\u001b[?25hUsing cached nvidia_cublas_cu12-12.1.3.1-py3-none-manylinux1_x86_64.whl (410.6 MB)\n",
            "Using cached nvidia_cuda_cupti_cu12-12.1.105-py3-none-manylinux1_x86_64.whl (14.1 MB)\n",
            "Using cached nvidia_cuda_nvrtc_cu12-12.1.105-py3-none-manylinux1_x86_64.whl (23.7 MB)\n",
            "Using cached nvidia_cuda_runtime_cu12-12.1.105-py3-none-manylinux1_x86_64.whl (823 kB)\n",
            "Using cached nvidia_cudnn_cu12-8.9.2.26-py3-none-manylinux1_x86_64.whl (731.7 MB)\n",
            "Using cached nvidia_cufft_cu12-11.0.2.54-py3-none-manylinux1_x86_64.whl (121.6 MB)\n",
            "Using cached nvidia_curand_cu12-10.3.2.106-py3-none-manylinux1_x86_64.whl (56.5 MB)\n",
            "Using cached nvidia_cusolver_cu12-11.4.5.107-py3-none-manylinux1_x86_64.whl (124.2 MB)\n",
            "Using cached nvidia_cusparse_cu12-12.1.0.106-py3-none-manylinux1_x86_64.whl (196.0 MB)\n",
            "Using cached nvidia_nccl_cu12-2.20.5-py3-none-manylinux2014_x86_64.whl (176.2 MB)\n",
            "Using cached nvidia_nvtx_cu12-12.1.105-py3-none-manylinux1_x86_64.whl (99 kB)\n",
            "Downloading nvidia_nvjitlink_cu12-12.5.82-py3-none-manylinux2014_x86_64.whl (21.3 MB)\n",
            "\u001b[2K   \u001b[90m━━━━━━━━━━━━━━━━━━━━━━━━━━━━━━━━━━━━━━━━\u001b[0m \u001b[32m21.3/21.3 MB\u001b[0m \u001b[31m18.4 MB/s\u001b[0m eta \u001b[36m0:00:00\u001b[0m\n",
            "\u001b[?25hInstalling collected packages: nvidia-nvtx-cu12, nvidia-nvjitlink-cu12, nvidia-nccl-cu12, nvidia-curand-cu12, nvidia-cufft-cu12, nvidia-cuda-runtime-cu12, nvidia-cuda-nvrtc-cu12, nvidia-cuda-cupti-cu12, nvidia-cublas-cu12, nvidia-cusparse-cu12, nvidia-cudnn-cu12, nvidia-cusolver-cu12, torchtext\n",
            "  Attempting uninstall: torchtext\n",
            "    Found existing installation: torchtext 0.18.0\n",
            "    Uninstalling torchtext-0.18.0:\n",
            "      Successfully uninstalled torchtext-0.18.0\n",
            "Successfully installed nvidia-cublas-cu12-12.1.3.1 nvidia-cuda-cupti-cu12-12.1.105 nvidia-cuda-nvrtc-cu12-12.1.105 nvidia-cuda-runtime-cu12-12.1.105 nvidia-cudnn-cu12-8.9.2.26 nvidia-cufft-cu12-11.0.2.54 nvidia-curand-cu12-10.3.2.106 nvidia-cusolver-cu12-11.4.5.107 nvidia-cusparse-cu12-12.1.0.106 nvidia-nccl-cu12-2.20.5 nvidia-nvjitlink-cu12-12.5.82 nvidia-nvtx-cu12-12.1.105 torchtext-0.6.0\n"
          ]
        }
      ]
    },
    {
      "cell_type": "markdown",
      "metadata": {
        "id": "Gp3rUslBnNd5"
      },
      "source": [
        "If you are interested to use the most recent version if torchtext, you can look at the following document to see how to convert the legacy version to the new version:\n",
        "https://colab.research.google.com/github/pytorch/text/blob/master/examples/legacy_tutorial/migration_tutorial.ipynb"
      ]
    },
    {
      "cell_type": "code",
      "execution_count": null,
      "metadata": {
        "id": "HgfNOUaPa9z8",
        "tags": []
      },
      "outputs": [],
      "source": [
        "import torch\n",
        "import torch.nn as nn\n",
        "import torch.nn.functional as F\n",
        "import torch.optim as optim\n",
        "import numpy as np"
      ]
    },
    {
      "cell_type": "markdown",
      "metadata": {
        "id": "M0jLI9LBa90C"
      },
      "source": [
        "## Part 1. Data Cleaning [15 pt]\n",
        "\n",
        "We will be using the \"SMS Spam Collection Data Set\" available at http://archive.ics.uci.edu/ml/datasets/SMS+Spam+Collection\n",
        "\n",
        "There is a link to download the \"Data Folder\" at the very top of the webpage. Download the zip file, unzip it, and upload the file `SMSSpamCollection` to Colab.    "
      ]
    },
    {
      "cell_type": "markdown",
      "metadata": {
        "id": "sSuF7C_Ga90E"
      },
      "source": [
        "### Part (a) [2 pt]\n",
        "\n",
        "Open up the file in Python, and print out one example of a spam SMS, and one example of a non-spam SMS.\n",
        "\n",
        "What is the label value for a spam message, and what is the label value for a non-spam message?"
      ]
    },
    {
      "cell_type": "code",
      "execution_count": null,
      "metadata": {
        "colab": {
          "base_uri": "https://localhost:8080/"
        },
        "collapsed": true,
        "id": "I_IfXHeTa90F",
        "jupyter": {
          "outputs_hidden": true
        },
        "outputId": "dfe22b10-c7fb-43d0-cd39-7f05f35128ae"
      },
      "outputs": [
        {
          "output_type": "stream",
          "name": "stdout",
          "text": [
            "Non-spam example: ham\tGo until jurong point, crazy.. Available only in bugis n great world la e buffet... Cine there got amore wat...\n",
            "\n",
            "Non-spam label is: ham\n",
            "Spam example: spam\tFree entry in 2 a wkly comp to win FA Cup final tkts 21st May 2005. Text FA to 87121 to receive entry question(std txt rate)T&C's apply 08452810075over18's\n",
            "\n",
            "Spam label is: spam\n"
          ]
        }
      ],
      "source": [
        "print_ham = True\n",
        "\n",
        "for line in open('SMSSpamCollection'):\n",
        "    label = line.split()[0]\n",
        "\n",
        "    if label == \"ham\" and print_ham:\n",
        "        print(f\"Non-spam example: {line}\")\n",
        "        print(f\"Non-spam label is: {label}\")\n",
        "        print_ham = False\n",
        "\n",
        "    if label == \"spam\":\n",
        "        print(f\"Spam example: {line}\")\n",
        "        print(f\"Spam label is: {label}\")\n",
        "        break\n"
      ]
    },
    {
      "cell_type": "code",
      "source": [
        "from google.colab import drive\n",
        "drive.mount('/content/drive')"
      ],
      "metadata": {
        "colab": {
          "base_uri": "https://localhost:8080/"
        },
        "id": "JLDU52tfwvrx",
        "outputId": "35fb84d3-db9e-42c4-e0aa-15100b6c8a43"
      },
      "execution_count": null,
      "outputs": [
        {
          "output_type": "stream",
          "name": "stdout",
          "text": [
            "Mounted at /content/drive\n"
          ]
        }
      ]
    },
    {
      "cell_type": "markdown",
      "metadata": {
        "id": "AukA6vMVa90d"
      },
      "source": [
        "### Part (b) [1 pt]\n",
        "\n",
        "How many spam messages are there in the data set?\n",
        "How many non-spam messages are there in the data set?\n"
      ]
    },
    {
      "cell_type": "code",
      "execution_count": null,
      "metadata": {
        "collapsed": true,
        "id": "LgsqyemVa90e",
        "jupyter": {
          "outputs_hidden": true
        },
        "colab": {
          "base_uri": "https://localhost:8080/"
        },
        "outputId": "eff823fa-2cc1-4efd-e239-b21636d799c8"
      },
      "outputs": [
        {
          "output_type": "stream",
          "name": "stdout",
          "text": [
            "Number of spam messages: 747\n",
            "Number of non-spam messages: 4827\n"
          ]
        }
      ],
      "source": [
        "count_spam = 0\n",
        "count_ham = 0\n",
        "\n",
        "for line in open('SMSSpamCollection'):\n",
        "    label = line.split()[0]\n",
        "\n",
        "    if label == \"spam\":\n",
        "        count_spam += 1\n",
        "    else:\n",
        "        count_ham += 1\n",
        "\n",
        "print(f\"Number of spam messages: {count_spam}\")\n",
        "print(f\"Number of non-spam messages: {count_ham}\")\n"
      ]
    },
    {
      "cell_type": "markdown",
      "metadata": {
        "id": "d1WXxVt6a90h"
      },
      "source": [
        "### Part (c) [4 pt]\n",
        "\n",
        "We will be using the package `torchtext` to load, process, and batch the data.\n",
        "A tutorial to torchtext is available below. This tutorial uses the same\n",
        "Sentiment140 data set that we explored during lecture.\n",
        "\n",
        "https://medium.com/@sonicboom8/sentiment-analysis-torchtext-55fb57b1fab8\n",
        "\n",
        "Unlike what we did during lecture, we will be building a **character level RNN**.\n",
        "That is, we will treat each **character** as a token in our sequence,\n",
        "rather than each **word**.\n",
        "\n",
        "Identify two advantage and two disadvantage of modelling SMS text\n",
        "messages as a sequence of characters rather than a sequence of words."
      ]
    },
    {
      "cell_type": "markdown",
      "source": [
        "## REWRITE\n",
        "\n",
        "Advantages: One advantage is the reduction in memory requirements. Characters form a smaller and more limited set compared to words, which means fewer unique tokens are needed to represent the entire text. This compact representation is beneficial in environments with limited storage capacity. Character-level modeling excels in handling unknown words. Given the frequent appearance of new words, typos, and informal language in SMS texts, a character-level model is overall better. It can interpret and learn from any sequence of characters, effectively managing words that the model has not encountered before, which ensures the model can generalize better to new or misspelled words, a common occurrence in spam messages.\n",
        "\n",
        "Disadvantages: The main disadvantage is the increased sequence length. Since a message consists of more characters than words, character-level models need to process longer sequences, leading to longer training times. Similarly character-level models may struggle with understanding semantic context. Words carry more explicit meaning than individual characters, and word-level models can more easily capture relationships and meanings within sentences. So the model can be less efficient and effective in recognizing the meaning of longer phrases. This limitation can affect the model's ability to accurately interpret and differentiate between similar phrases in the context of spam detection."
      ],
      "metadata": {
        "id": "dJbM05eMytnN"
      }
    },
    {
      "cell_type": "markdown",
      "metadata": {
        "id": "ie_D0bv9a90k"
      },
      "source": [
        "### Part (d) [1 pt]\n",
        "\n",
        "We will be loading our data set using `torchtext.data.TabularDataset`. The\n",
        "constructor will read directly from the `SMSSpamCollection` file.\n",
        "\n",
        "For the data file to be read successfuly, we\n",
        "need to specify the **fields** (columns) in the file.\n",
        "In our case, the dataset has two fields:\n",
        "\n",
        "- a text field containing the sms messages,\n",
        "- a label field which will be converted into a binary label.\n",
        "\n",
        "Split the dataset into `train`, `valid`, and `test`. Use a 60-20-20 split.\n",
        "You may find this torchtext API page helpful:\n",
        "https://torchtext.readthedocs.io/en/latest/data.html#dataset\n",
        "\n",
        "Hint: There is a `Dataset` method that can perform the random split for you."
      ]
    },
    {
      "cell_type": "code",
      "source": [
        "import torchtext\n",
        "from torchtext.data import Field, TabularDataset\n",
        "\n",
        "text_field = Field(sequential=True,        # text sequence\n",
        "                   tokenize=list,          # tokenize as characters\n",
        "                   include_lengths=True,   # include lengths for batching\n",
        "                   batch_first=True,       # batch dimension comes first\n",
        "                   use_vocab=True)         # use a vocabulary to map characters to indices\n",
        "\n",
        "label_field = Field(sequential=False,      # not a sequence\n",
        "                    use_vocab=False,       # no vocabulary needed\n",
        "                    is_target=True,        # this is the target field\n",
        "                    batch_first=True,      # batch dimension comes first\n",
        "                    preprocessing=lambda x: int(x == 'spam')) # convert to binary label\n",
        "\n",
        "fields = [('label', label_field), ('sms', text_field)]\n",
        "\n",
        "dataset = TabularDataset(path=\"SMSSpamCollection\", # path to the data file\n",
        "                         format=\"tsv\",             # tab-separated values\n",
        "                         fields=fields)            # fields definition\n",
        "\n",
        "# splitting\n",
        "train, valid, test = dataset.split(split_ratio=[0.6, 0.2, 0.2]) # 60-20-20 split\n",
        "\n",
        "# print example\n",
        "print(train[0].sms)\n",
        "print(train[0].label)\n",
        "\n",
        "print(\"\\n\")\n",
        "\n",
        "# prinnt size of splits\n",
        "print(len(train))\n",
        "print(len(valid))\n",
        "print(len(test))"
      ],
      "metadata": {
        "colab": {
          "base_uri": "https://localhost:8080/"
        },
        "id": "N9ua1NaOzGTI",
        "outputId": "e9df09ab-3fb2-4c98-d254-cd5e851fd39a"
      },
      "execution_count": null,
      "outputs": [
        {
          "output_type": "stream",
          "name": "stdout",
          "text": [
            "['R', 'o', 'f', 'l', ' ', 'b', 'e', 't', 't', 'a', ' ', 'i', 'n', 'v', 'e', 's', 't', ' ', 'i', 'n', ' ', 's', 'o', 'm', 'e', ' ', ' ', 'a', 'n', 't', 'i', ' ', 'a', 'g', 'i', 'n', 'g', ' ', 'p', 'r', 'o', 'd', 'u', 'c', 't', 's']\n",
            "0\n",
            "\n",
            "\n",
            "3343\n",
            "1115\n",
            "1114\n"
          ]
        }
      ]
    },
    {
      "cell_type": "markdown",
      "metadata": {
        "id": "v6nP0Ks_a90o"
      },
      "source": [
        "### Part (e) [2 pt]\n",
        "\n",
        "You saw in part (b) that there are many more non-spam messages than spam messages.\n",
        "This **imbalance** in our training data will be problematic for training.\n",
        "We can fix this disparity by duplicating spam messages in the training set,\n",
        "so that the training set is roughly **balanced**.\n",
        "\n",
        "Explain why having a balanced training set is helpful for training our neural network.\n",
        "\n",
        "Note: if you are not sure, try removing the below code and train your mode."
      ]
    },
    {
      "cell_type": "code",
      "execution_count": null,
      "metadata": {
        "collapsed": true,
        "id": "FWvx9_rka90p",
        "jupyter": {
          "outputs_hidden": true
        }
      },
      "outputs": [],
      "source": [
        "# save the original training examples\n",
        "old_train_examples = train.examples\n",
        "# get all the spam messages in `train`\n",
        "train_spam = []\n",
        "for item in train.examples:\n",
        "    if item.label == 1:\n",
        "        train_spam.append(item)\n",
        "# duplicate each spam message 6 more times\n",
        "train.examples = old_train_examples + train_spam * 6"
      ]
    },
    {
      "cell_type": "markdown",
      "source": [
        "Having a balanced training set is helpful for training the neural network because it ensures that the model is equally exposed to both classes, preventing it from becoming biased towards the majority class and improving its ability to accurately classify both spam and non-spam messages."
      ],
      "metadata": {
        "id": "TdGmUQIf1Gdx"
      }
    },
    {
      "cell_type": "markdown",
      "metadata": {
        "id": "j7eUmBEva90r"
      },
      "source": [
        "### Part (f) [1 pt]\n",
        "\n",
        "We need to build the vocabulary on the training data by running the below code.\n",
        "This finds all the possible character tokens in the training set.\n",
        "\n",
        "Explain what the variables `text_field.vocab.stoi` and `text_field.vocab.itos` represent."
      ]
    },
    {
      "cell_type": "code",
      "execution_count": null,
      "metadata": {
        "collapsed": true,
        "id": "8CQM8flKa90s",
        "jupyter": {
          "outputs_hidden": true
        },
        "colab": {
          "base_uri": "https://localhost:8080/"
        },
        "outputId": "44ae7749-5774-4523-bf3e-432cbb9f3194"
      },
      "outputs": [
        {
          "output_type": "stream",
          "name": "stdout",
          "text": [
            "defaultdict(<bound method Vocab._default_unk_index of <torchtext.vocab.Vocab object at 0x7ea6c4776920>>, {'<unk>': 0, '<pad>': 1, ' ': 2, 'e': 3, 'o': 4, 't': 5, 'a': 6, 'n': 7, 'r': 8, 'i': 9, 's': 10, 'l': 11, 'u': 12, 'h': 13, '0': 14, 'd': 15, '.': 16, 'm': 17, 'c': 18, 'y': 19, 'w': 20, 'p': 21, 'g': 22, '1': 23, 'f': 24, 'b': 25, 'T': 26, '2': 27, '8': 28, 'k': 29, 'v': 30, 'E': 31, '5': 32, 'S': 33, 'C': 34, 'O': 35, 'I': 36, '4': 37, '7': 38, 'A': 39, 'N': 40, '3': 41, 'x': 42, '6': 43, ',': 44, 'R': 45, '!': 46, '9': 47, 'W': 48, 'P': 49, 'U': 50, 'M': 51, 'H': 52, 'L': 53, 'D': 54, 'B': 55, 'G': 56, 'Y': 57, 'F': 58, '?': 59, \"'\": 60, '/': 61, '£': 62, '-': 63, '&': 64, ':': 65, 'X': 66, 'z': 67, 'V': 68, 'K': 69, 'j': 70, '*': 71, 'J': 72, ')': 73, ';': 74, '+': 75, '\"': 76, 'Q': 77, 'q': 78, '(': 79, '#': 80, '=': 81, '@': 82, '>': 83, 'Z': 84, 'ü': 85, 'Ü': 86, '‘': 87, '$': 88, '<': 89, '\\x92': 90, '%': 91, '|': 92, '[': 93, ']': 94, '_': 95, '“': 96, '…': 97, '\\x93': 98, '’': 99, '–': 100, '\\\\': 101, '\\t': 102, '\\n': 103, '~': 104, '\\x91': 105, '\\x96': 106, 'è': 107, 'ì': 108, '┾': 109, '〨': 110, '鈥': 111})\n",
            "\n",
            "\n",
            "['<unk>', '<pad>', ' ', 'e', 'o', 't', 'a', 'n', 'r', 'i', 's', 'l', 'u', 'h', '0', 'd', '.', 'm', 'c', 'y', 'w', 'p', 'g', '1', 'f', 'b', 'T', '2', '8', 'k', 'v', 'E', '5', 'S', 'C', 'O', 'I', '4', '7', 'A', 'N', '3', 'x', '6', ',', 'R', '!', '9', 'W', 'P', 'U', 'M', 'H', 'L', 'D', 'B', 'G', 'Y', 'F', '?', \"'\", '/', '£', '-', '&', ':', 'X', 'z', 'V', 'K', 'j', '*', 'J', ')', ';', '+', '\"', 'Q', 'q', '(', '#', '=', '@', '>', 'Z', 'ü', 'Ü', '‘', '$', '<', '\\x92', '%', '|', '[', ']', '_', '“', '…', '\\x93', '’', '–', '\\\\', '\\t', '\\n', '~', '\\x91', '\\x96', 'è', 'ì', '┾', '〨', '鈥']\n"
          ]
        }
      ],
      "source": [
        "text_field.build_vocab(train)\n",
        "print(text_field.vocab.stoi)\n",
        "print(\"\\n\")\n",
        "print(text_field.vocab.itos)"
      ]
    },
    {
      "cell_type": "markdown",
      "source": [
        "The variable \"text_field.vocab.stoi\" represents a dictionary that maps each character token in the vocabulary to a unique integer index, while the variable \"text_field.vocab.itos\" represents a list that maps each integer index back to its corresponding character token."
      ],
      "metadata": {
        "id": "eNVGfudL1WLZ"
      }
    },
    {
      "cell_type": "markdown",
      "metadata": {
        "id": "TC8WVE8Ua90u"
      },
      "source": [
        "### Part (g) [2 pt]\n",
        "\n",
        "The tokens `<unk>` and `<pad>` were not in our SMS text messages.\n",
        "What do these two values represent?"
      ]
    },
    {
      "cell_type": "markdown",
      "source": [
        "The token \"unk\" represents any unknown character that was not found in the training vocabulary, while the token \"pad\" is used to pad sequences to ensure they have the same length for batch processing."
      ],
      "metadata": {
        "id": "0Ast1cyM1lT4"
      }
    },
    {
      "cell_type": "markdown",
      "metadata": {
        "id": "Ff5CNk7Qa90y"
      },
      "source": [
        "### Part (h) [2 pt]\n",
        "\n",
        "Since text sequences are of variable length, `torchtext` provides a `BucketIterator` data loader,\n",
        "which batches similar length sequences together. The iterator also provides functionalities to\n",
        "pad sequences automatically.\n",
        "\n",
        "Take a look at 10 batches in `train_iter`. What is the maximum length of the\n",
        "input sequence in each batch? How many `<pad>` tokens are used in each of the 10\n",
        "batches?"
      ]
    },
    {
      "cell_type": "code",
      "execution_count": null,
      "metadata": {
        "collapsed": true,
        "id": "V8N8qLWOa90y",
        "jupyter": {
          "outputs_hidden": true
        }
      },
      "outputs": [],
      "source": [
        "train_iter = torchtext.data.BucketIterator(train,\n",
        "                                           batch_size=32,\n",
        "                                           sort_key=lambda x: len(x.sms), # to minimize padding\n",
        "                                           sort_within_batch=True,        # sort within each batch\n",
        "                                           repeat=False)                  # repeat the iterator for many epochs"
      ]
    },
    {
      "cell_type": "code",
      "execution_count": null,
      "metadata": {
        "collapsed": true,
        "id": "Qwz-rOaha902",
        "jupyter": {
          "outputs_hidden": true
        },
        "colab": {
          "base_uri": "https://localhost:8080/"
        },
        "outputId": "cd490e60-3da7-491f-f334-85aafec6fd0e"
      },
      "outputs": [
        {
          "output_type": "stream",
          "name": "stdout",
          "text": [
            "Batch number: 1 | Max length is: 159 | Number of 'pad' tokens is: 2\n",
            "Batch number: 2 | Max length is: 31 | Number of 'pad' tokens is: 22\n",
            "Batch number: 3 | Max length is: 126 | Number of 'pad' tokens is: 41\n",
            "Batch number: 4 | Max length is: 56 | Number of 'pad' tokens is: 25\n",
            "Batch number: 5 | Max length is: 118 | Number of 'pad' tokens is: 60\n",
            "Batch number: 6 | Max length is: 26 | Number of 'pad' tokens is: 17\n",
            "Batch number: 7 | Max length is: 12 | Number of 'pad' tokens is: 165\n",
            "Batch number: 8 | Max length is: 37 | Number of 'pad' tokens is: 26\n",
            "Batch number: 9 | Max length is: 35 | Number of 'pad' tokens is: 10\n",
            "Batch number: 10 | Max length is: 22 | Number of 'pad' tokens is: 0\n"
          ]
        }
      ],
      "source": [
        "count = 1\n",
        "for batch in train_iter:\n",
        "    if count > 10:\n",
        "        break\n",
        "\n",
        "    # get max length of input sequences in  batch\n",
        "    max_length = batch.sms[1][0].item()\n",
        "\n",
        "    # calculate num of 'pad' tokens in batch\n",
        "    pad_token_id = text_field.vocab.stoi['<pad>']\n",
        "    num_pads = 0\n",
        "    for message_length in batch.sms[1]:\n",
        "        num_pads += max_length - message_length.item()\n",
        "\n",
        "    print(f\"Batch number: {count} | Max length is: {max_length} | Number of 'pad' tokens is: {int(num_pads)}\")\n",
        "\n",
        "    count += 1\n"
      ]
    },
    {
      "cell_type": "markdown",
      "metadata": {
        "id": "y7HnqP6_a904"
      },
      "source": [
        "## Part 2. Model Building [8 pt]\n",
        "\n",
        "Build a recurrent neural network model, using an architecture of your choosing.\n",
        "Use the one-hot embedding of each character as input to your recurrent network.\n",
        "Use one or more fully-connected layers to make the prediction based on your\n",
        "recurrent network output.\n",
        "\n",
        "Instead of using the RNN output value for the final token, another often used\n",
        "strategy is to max-pool over the entire output array. That is, instead of calling\n",
        "something like:\n",
        "\n",
        "```\n",
        "out, _ = self.rnn(x)\n",
        "self.fc(out[:, -1, :])\n",
        "```\n",
        "\n",
        "where `self.rnn` is an `nn.RNN`, `nn.GRU`, or `nn.LSTM` module, and `self.fc` is a\n",
        "fully-connected\n",
        "layer, we use:\n",
        "\n",
        "```\n",
        "out, _ = self.rnn(x)\n",
        "self.fc(torch.max(out, dim=1)[0])\n",
        "```\n",
        "\n",
        "This works reasonably in practice. An even better alternative is to concatenate the\n",
        "max-pooling and average-pooling of the RNN outputs:\n",
        "\n",
        "```\n",
        "out, _ = self.rnn(x)\n",
        "out = torch.cat([torch.max(out, dim=1)[0],\n",
        "                 torch.mean(out, dim=1)], dim=1)\n",
        "self.fc(out)\n",
        "```\n",
        "\n",
        "We encourage you to try out all these options. The way you pool the RNN outputs\n",
        "is one of the \"hyperparameters\" that you can choose to tune later on."
      ]
    },
    {
      "cell_type": "code",
      "execution_count": null,
      "metadata": {
        "collapsed": true,
        "id": "jHl1p_Wwa905",
        "jupyter": {
          "outputs_hidden": true
        },
        "colab": {
          "base_uri": "https://localhost:8080/"
        },
        "outputId": "c9b11883-35be-463d-bcb4-e423996b4cd2"
      },
      "outputs": [
        {
          "output_type": "stream",
          "name": "stdout",
          "text": [
            "tensor([1., 0., 0., 0., 0., 0., 0., 0., 0., 0.])\n",
            "tensor([0., 1., 0., 0., 0., 0., 0., 0., 0., 0.])\n",
            "tensor([[[0., 1., 0., 0., 0., 0., 0., 0., 0., 0.],\n",
            "         [0., 0., 1., 0., 0., 0., 0., 0., 0., 0.]],\n",
            "\n",
            "        [[0., 0., 0., 1., 0., 0., 0., 0., 0., 0.],\n",
            "         [0., 0., 0., 0., 1., 0., 0., 0., 0., 0.]]])\n"
          ]
        }
      ],
      "source": [
        "# You might find this code helpful for obtaining\n",
        "# PyTorch one-hot vectors.\n",
        "\n",
        "ident = torch.eye(10)\n",
        "print(ident[0]) # one-hot vector\n",
        "print(ident[1]) # one-hot vector\n",
        "x = torch.tensor([[1, 2], [3, 4]])\n",
        "print(ident[x]) # one-hot vectors"
      ]
    },
    {
      "cell_type": "code",
      "execution_count": null,
      "metadata": {
        "collapsed": true,
        "id": "4LTQ7zFka909",
        "jupyter": {
          "outputs_hidden": true
        }
      },
      "outputs": [],
      "source": [
        "import torch\n",
        "import torch.nn as nn\n",
        "import torch.nn.functional as F\n",
        "\n",
        "input = len(text_field.vocab.itos)\n",
        "\n",
        "class RNN(nn.Module):\n",
        "    def __init__(self, vocab_size, hidden_size, n_layers=1):\n",
        "        super(RNN, self).__init__()\n",
        "        self.name = \"RNN\"\n",
        "        self.emb = torch.eye(vocab_size)\n",
        "        self.rnn = nn.GRU(vocab_size, hidden_size, n_layers, batch_first=True)\n",
        "        self.fc = nn.Linear(hidden_size, 2)\n",
        "\n",
        "    def forward(self, x):\n",
        "        one_hot = self.emb[x]\n",
        "        output, _ = self.rnn(one_hot)\n",
        "        out = torch.max(output, dim=1)[0]\n",
        "        out = self.fc(out)\n",
        "        return out"
      ]
    },
    {
      "cell_type": "markdown",
      "metadata": {
        "id": "vKIYPl_Ba90_"
      },
      "source": [
        "## Part 3. Training [16 pt]\n",
        "\n",
        "### Part (a) [4 pt]\n",
        "\n",
        "Complete the `get_accuracy` function, which will compute the\n",
        "accuracy (rate) of your model across a dataset (e.g. validation set).\n",
        "You may modify `torchtext.data.BucketIterator` to make your computation\n",
        "faster."
      ]
    },
    {
      "cell_type": "code",
      "execution_count": null,
      "metadata": {
        "collapsed": true,
        "id": "pvNfhGD6a91A",
        "jupyter": {
          "outputs_hidden": true
        }
      },
      "outputs": [],
      "source": [
        "device = torch.device(\"cuda\" if torch.cuda.is_available() else \"cpu\")\n",
        "\n",
        "def get_accuracy(model, data_loader, batch_size):\n",
        "    model.eval()\n",
        "    correct_predictions = 0\n",
        "    total_samples = 0\n",
        "\n",
        "    with torch.no_grad():\n",
        "        for batch in data_loader:\n",
        "            messages, labels = batch.sms[0], batch.label\n",
        "            messages, labels = messages.to(device), labels.to(device)\n",
        "\n",
        "            outputs = model(messages)\n",
        "            _, predicted_labels = outputs.max(dim=1, keepdim=True)\n",
        "\n",
        "            correct_predictions += (predicted_labels == labels.view_as(predicted_labels)).sum().item()\n",
        "            total_samples += labels.size(0)\n",
        "\n",
        "    accuracy = correct_predictions / total_samples\n",
        "    return accuracy\n"
      ]
    },
    {
      "cell_type": "markdown",
      "metadata": {
        "id": "TlxlcAC1a91C"
      },
      "source": [
        "### Part (b) [4 pt]\n",
        "\n",
        "Train your model. Plot the training curve of your final model.\n",
        "Your training curve should have the training/validation loss and\n",
        "accuracy plotted periodically.\n",
        "\n",
        "Note: Not all of your batches will have the same batch size.\n",
        "In particular, if your training set does not divide evenly by\n",
        "your batch size, there will be a batch that is smaller than\n",
        "the rest."
      ]
    },
    {
      "cell_type": "code",
      "execution_count": null,
      "metadata": {
        "collapsed": true,
        "id": "CVtf7CJCa91D",
        "jupyter": {
          "outputs_hidden": true
        }
      },
      "outputs": [],
      "source": [
        "import matplotlib.pyplot as plt\n",
        "\n",
        "def train_rnn(model, train_data, valid_data, batch_size, num_epochs=5, learning_rate=1e-5):\n",
        "    criterion = nn.CrossEntropyLoss()\n",
        "    optimizer = torch.optim.Adam(model.parameters(), lr=learning_rate)\n",
        "\n",
        "    train_losses, valid_losses, train_acc, valid_acc = [], [], [], []\n",
        "    epochs = []\n",
        "\n",
        "    train_loader = torchtext.data.BucketIterator(train_data,\n",
        "                                                 batch_size=batch_size,\n",
        "                                                 sort_key=lambda x: len(x.sms),\n",
        "                                                 sort_within_batch=True,\n",
        "                                                 repeat=False)\n",
        "\n",
        "    validation_loader = torchtext.data.BucketIterator(valid_data,\n",
        "                                                 batch_size=batch_size,\n",
        "                                                 sort_key=lambda x: len(x.sms),\n",
        "                                                 sort_within_batch=True,\n",
        "                                                 repeat=False)\n",
        "\n",
        "    for epoch in range(num_epochs):\n",
        "        model.train()\n",
        "        for batch in train_loader:\n",
        "            messages, labels = batch.sms[0], batch.label\n",
        "            messages, labels = messages.to(device), labels.to(device)\n",
        "\n",
        "            optimizer.zero_grad()\n",
        "            predictions = model(messages)\n",
        "            loss = criterion(predictions, labels)\n",
        "            loss.backward()\n",
        "            optimizer.step()\n",
        "\n",
        "        train_losses.append(loss.item())\n",
        "\n",
        "        model.eval()\n",
        "        with torch.no_grad():\n",
        "            valid_loss = 0\n",
        "            for batch in validation_loader:\n",
        "                messages, labels = batch.sms[0], batch.label\n",
        "                messages, labels = messages.to(device), labels.to(device)\n",
        "\n",
        "                predictions = model(messages)\n",
        "                loss = criterion(predictions, labels)\n",
        "                valid_loss += loss.item()\n",
        "\n",
        "            valid_loss /= len(validation_loader)\n",
        "            valid_losses.append(valid_loss)\n",
        "\n",
        "        epochs.append(epoch)\n",
        "\n",
        "        train_acc.append(get_accuracy(model, train_loader, 64))\n",
        "        valid_acc.append(get_accuracy(model, validation_loader, 64))\n",
        "\n",
        "        print(f\"Epoch {epoch+1} | Loss: {loss.item():.6f} | Train Accuracy: {train_acc[-1]:.6f} | Validation Accuracy: {valid_acc[-1]:.6f}\")\n",
        "\n",
        "        model_path = f\"model_{model.name}_bs{batch_size}_lr{learning_rate}_epoch{epoch}.pth\"\n",
        "        torch.save(model.state_dict(), model_path)\n",
        "\n",
        "    plt.figure(figsize=(12, 5))\n",
        "    plt.subplot(1, 2, 1)\n",
        "    plt.plot(epochs, train_losses, label=\"Train Loss\")\n",
        "    plt.plot(epochs, valid_losses, label=\"Validation Loss\")\n",
        "    plt.xlabel(\"Epoch\")\n",
        "    plt.ylabel(\"Loss\")\n",
        "    plt.title(\"Training and Validation Loss\")\n",
        "    plt.legend()\n",
        "\n",
        "    plt.subplot(1, 2, 2)\n",
        "    plt.plot(epochs, train_acc, label=\"Train Accuracy\")\n",
        "    plt.plot(epochs, valid_acc, label=\"Validation Accuracy\")\n",
        "    plt.xlabel(\"Epoch\")\n",
        "    plt.ylabel(\"Accuracy\")\n",
        "    plt.title(\"Training and Validation Accuracy\")\n",
        "    plt.legend()\n",
        "\n",
        "    plt.show()\n"
      ]
    },
    {
      "cell_type": "code",
      "source": [
        "# hidden units = 100\n",
        "# batch size = 64\n",
        "# num_epochs = 15\n",
        "# learning_rate = 0.0001\n",
        "\n",
        "model = RNN(input, 100, 2)\n",
        "train_rnn(model, train, valid, 64, 15, 0.0001)\n",
        "# RESUKTS: Epoch 15 | Loss: 0.111282 | Train Accuracy: 0.964874 | Validation Accuracy: 0.973094"
      ],
      "metadata": {
        "colab": {
          "base_uri": "https://localhost:8080/",
          "height": 764
        },
        "id": "y7Kf6GK8-q2D",
        "outputId": "b7373dec-5acf-40d9-fc8d-3d41858f9c9b"
      },
      "execution_count": null,
      "outputs": [
        {
          "output_type": "stream",
          "name": "stdout",
          "text": [
            "Epoch 1 | Loss: 0.703005 | Train Accuracy: 0.521228 | Validation Accuracy: 0.132735\n",
            "Epoch 2 | Loss: 0.667001 | Train Accuracy: 0.517201 | Validation Accuracy: 0.130045\n",
            "Epoch 3 | Loss: 0.498103 | Train Accuracy: 0.929183 | Validation Accuracy: 0.882511\n",
            "Epoch 4 | Loss: 0.321542 | Train Accuracy: 0.929854 | Validation Accuracy: 0.960538\n",
            "Epoch 5 | Loss: 0.212528 | Train Accuracy: 0.915086 | Validation Accuracy: 0.971300\n",
            "Epoch 6 | Loss: 0.137199 | Train Accuracy: 0.960228 | Validation Accuracy: 0.965022\n",
            "Epoch 7 | Loss: 0.253244 | Train Accuracy: 0.958214 | Validation Accuracy: 0.970404\n",
            "Epoch 8 | Loss: 0.107131 | Train Accuracy: 0.955362 | Validation Accuracy: 0.974888\n",
            "Epoch 9 | Loss: 0.273779 | Train Accuracy: 0.958550 | Validation Accuracy: 0.974888\n",
            "Epoch 10 | Loss: 0.054600 | Train Accuracy: 0.966773 | Validation Accuracy: 0.972197\n",
            "Epoch 11 | Loss: 0.054132 | Train Accuracy: 0.964759 | Validation Accuracy: 0.973094\n",
            "Epoch 12 | Loss: 0.180895 | Train Accuracy: 0.965934 | Validation Accuracy: 0.973094\n",
            "Epoch 13 | Loss: 0.100035 | Train Accuracy: 0.964591 | Validation Accuracy: 0.974888\n",
            "Epoch 14 | Loss: 0.031589 | Train Accuracy: 0.950663 | Validation Accuracy: 0.975785\n",
            "Epoch 15 | Loss: 0.180403 | Train Accuracy: 0.971975 | Validation Accuracy: 0.969507\n"
          ]
        },
        {
          "output_type": "display_data",
          "data": {
            "text/plain": [
              "<Figure size 1200x500 with 2 Axes>"
            ],
            "image/png": "[encoded data removed]"
          },
          "metadata": {}
        }
      ]
    },
    {
      "cell_type": "markdown",
      "metadata": {
        "id": "fE3eRkDAa91F"
      },
      "source": [
        "### Part (c) [4 pt]\n",
        "\n",
        "Choose at least 4 hyperparameters to tune. Explain how you tuned the hyperparameters.\n",
        "You don't need to include your training curve for every model you trained.\n",
        "Instead, explain what hyperparemters you tuned, what the best validation accuracy was,\n",
        "and the reasoning behind the hyperparameter decisions you made.\n",
        "\n",
        "For this assignment, you should tune more than just your learning rate and epoch.\n",
        "Choose at least 2 hyperparameters that are unrelated to the optimizer."
      ]
    },
    {
      "cell_type": "code",
      "execution_count": null,
      "metadata": {
        "collapsed": true,
        "id": "A2GEWfDca91G",
        "jupyter": {
          "outputs_hidden": true
        }
      },
      "outputs": [],
      "source": [
        "# FIRST TRAINING SESSION\n",
        "# increase number of hidden units\n",
        "# increase learning rate\n",
        "\n",
        "# hidden units = 100\n",
        "# batch size = 64\n",
        "# num_epochs = 15\n",
        "# learning_rate = 0.001\n",
        "\n",
        "# model1 = RNN(input, 500, 2)\n",
        "# train_rnn(model1, train, valid, 64, 15, 0.001)\n",
        "# RESULTS: Epoch 15 | Loss: 0.022907 | Train Accuracy: 0.983204 | Validation Accuracy: 0.981166"
      ]
    },
    {
      "cell_type": "code",
      "source": [
        "# SECOND TRAINING SESSION\n",
        "# lower number of hidden units\n",
        "    # doing this because the first training session had lower training and validatyion accuracy than the original results\n",
        "# increase batch size\n",
        "# increase number of GRU layers\n",
        "\n",
        "# hidden units = 300\n",
        "# batch size = 100\n",
        "# num_epochs = 15\n",
        "# learning_rate = 0.001\n",
        "# GRU layers = 2\n",
        "\n",
        "# creating new RNN model with 2 GRU layers\n",
        "input = len(text_field.vocab.itos)\n",
        "\n",
        "class RNN1(nn.Module):\n",
        "    def __init__(self, vocab_size, hidden_size, n_layers=2):\n",
        "        super(RNN1, self).__init__()\n",
        "        self.name = \"RNN1\"\n",
        "        self.emb = torch.eye(vocab_size)\n",
        "        self.rnn = nn.GRU(vocab_size, hidden_size, n_layers, batch_first=True)\n",
        "        self.fc = nn.Linear(hidden_size, 2)\n",
        "\n",
        "    def forward(self, x):\n",
        "        one_hot = self.emb[x]\n",
        "        output, _ = self.rnn(one_hot)\n",
        "        out = torch.max(output, dim=1)[0]\n",
        "        out = self.fc(out)\n",
        "        return out\n",
        "\n",
        "# model2 = RNN1(input, 300, 2)\n",
        "# train_rnn(model2, train, valid, 100, 15, 0.001)\n",
        "\n",
        "# RESULTS: Epoch 15 | Loss: 0.030538 | Train Accuracy: 0.987156 | Validation Accuracy: 0.984753\n"
      ],
      "metadata": {
        "id": "m2qg3Z38B5Zb"
      },
      "execution_count": null,
      "outputs": []
    },
    {
      "cell_type": "code",
      "source": [
        "# THIRD TRAINING SESSION\n",
        "# keep number of GRU layers the same since second training session resulted in higher training and validation accuracy than original results\n",
        "# increase learning rate to imporve training and validation accuracy\n",
        "# decrease number of epochs to improve speed of runtime\n",
        "\n",
        "# hidden units = 300\n",
        "# batch size = 100\n",
        "# num_epochs = 10\n",
        "# learning_rate = 0.01\n",
        "# GRU layers = 2\n",
        "\n",
        "# model3 = RNN1(input, 300, 2)\n",
        "# train_rnn(model3, train, valid, 100, 10, 0.01)\n",
        "\n",
        "# RESULTS: Epoch 10 | Loss: 0.510568 | Train Accuracy: 0.642516 | Validation Accuracy: 0.857399"
      ],
      "metadata": {
        "id": "ztkivi9AB5pY"
      },
      "execution_count": null,
      "outputs": []
    },
    {
      "cell_type": "code",
      "source": [
        "# FOURTH (AND LAST) TRAINING SESSION\n",
        "# keep the second RNN model (with 2 GRU layers) because this resulted in the highest training and validation accuracy\n",
        "# decrease the learning rate from third training session\n",
        "    # the highest training and validation accuracy resulted in 0.001 learning rate\n",
        "    # so in this session, I will slightly increase the learning rate from 0.001 to 0.003\n",
        "\n",
        "# hidden units = 300\n",
        "# batch size = 100\n",
        "# num_epochs = 10\n",
        "# learning_rate = 0.003\n",
        "# GRU layers = 2\n",
        "\n",
        "model4 = RNN1(input, 300, 2)\n",
        "#train_rnn(model4, train, valid, 100, 10, 0.003)\n",
        "\n",
        "# RESULTS: Epoch 10 | Loss: 0.006197 | Train Accuracy: 0.988691 | Validation Accuracy: 0.983857"
      ],
      "metadata": {
        "id": "SZCq-wP3B5u1"
      },
      "execution_count": null,
      "outputs": []
    },
    {
      "cell_type": "markdown",
      "metadata": {
        "id": "v7DY56rKa91I"
      },
      "source": [
        "### Part (d) [2 pt]\n",
        "\n",
        "Before we deploy a machine learning model, we usually want to have a better understanding\n",
        "of how our model performs beyond its validation accuracy. An important metric to track is\n",
        "*how well our model performs in certain subsets of the data*.\n",
        "\n",
        "In particular, what is the model's error rate amongst data with negative labels?\n",
        "This is called the **false positive rate**.\n",
        "\n",
        "What about the model's error rate amongst data with positive labels?\n",
        "This is called the **false negative rate**.\n",
        "\n",
        "Report your final model's false positive and false negative rate across the\n",
        "validation set."
      ]
    },
    {
      "cell_type": "code",
      "execution_count": null,
      "metadata": {
        "collapsed": true,
        "id": "7ggbQSdba91J",
        "jupyter": {
          "outputs_hidden": true
        },
        "colab": {
          "base_uri": "https://localhost:8080/"
        },
        "outputId": "e3c8fabd-025d-4d23-b9d1-428d33eeb19e"
      },
      "outputs": [
        {
          "output_type": "stream",
          "name": "stdout",
          "text": [
            "The false positive rate: 1.0.\n",
            "The false negative rate: 0.0.\n"
          ]
        }
      ],
      "source": [
        "# Create a Dataset of only spam validation examples\n",
        "valid_spam = torchtext.data.Dataset(\n",
        "    [e for e in valid.examples if e.label == 1],\n",
        "    valid.fields)\n",
        "\n",
        "vs = torchtext.data.BucketIterator(valid_spam,\n",
        "                                           batch_size=32,\n",
        "                                           sort_key=lambda x: len(x.sms), # to minimize padding\n",
        "                                           sort_within_batch=True,        # sort within each batch\n",
        "                                           repeat=False)                  # repeat the iterator for many epochs\n",
        "\n",
        "# Create a Dataset of only non-spam validation examples\n",
        "valid_nospam = torchtext.data.Dataset(\n",
        "    [e for e in valid.examples if e.label == 0],\n",
        "    valid.fields)\n",
        "\n",
        "\n",
        "vns = torchtext.data.BucketIterator(valid_nospam,\n",
        "                                           batch_size=32,\n",
        "                                           sort_key=lambda x: len(x.sms), # to minimize padding\n",
        "                                           sort_within_batch=True,        # sort within each batch\n",
        "                                           repeat=False)                  # repeat the iterator for many epochs\n",
        "\n",
        "input = len(text_field.vocab.itos)  # Example input size\n",
        "model4 = RNN1(input, 300, 2)\n",
        "torch.save(model4.state_dict(), \"/content/model4\")\n",
        "state = torch.load(\"model4\")\n",
        "model4.load_state_dict(state)\n",
        "\n",
        "\n",
        "print(\"The false positive rate: {}.\".format(1 - get_accuracy(model4, vs, 64)))\n",
        "print(\"The false negative rate: {}.\".format(1 - get_accuracy(model4, vns, 64)))"
      ]
    },
    {
      "cell_type": "markdown",
      "metadata": {
        "id": "N1iRteb3a91O"
      },
      "source": [
        "### Part (e) [2 pt]\n",
        "\n",
        "The impact of a false positive vs a false negative can be drastically different.\n",
        "If our spam detection algorithm was deployed on your phone, what is the impact\n",
        "of a false positive on the phone's user? What is the impact of a false negative?"
      ]
    },
    {
      "cell_type": "markdown",
      "source": [
        "A false positive would cause the phone to block an actual message, potentially missing important information from contacts like employers or doctors. Conversely, a false negative would allow a spam message to reach the user, which can be manually deleted by the user but is more disruptive."
      ],
      "metadata": {
        "id": "nTKIC8QNnqgo"
      }
    },
    {
      "cell_type": "markdown",
      "metadata": {
        "id": "Gznefulsa91V"
      },
      "source": [
        "## Part 4. Evaluation [11 pt]\n",
        "\n",
        "### Part (a) [1 pt]\n",
        "\n",
        "Report the final test accuracy of your model."
      ]
    },
    {
      "cell_type": "code",
      "execution_count": null,
      "metadata": {
        "collapsed": true,
        "id": "D5L5D-A1a91W",
        "jupyter": {
          "outputs_hidden": true
        },
        "colab": {
          "base_uri": "https://localhost:8080/"
        },
        "outputId": "a1ccc0ec-2d79-438a-fbcd-8aafb78a41a3"
      },
      "outputs": [
        {
          "output_type": "stream",
          "name": "stdout",
          "text": [
            "The test accuracy the model is: 0.848294434470377\n"
          ]
        }
      ],
      "source": [
        "test_loader = torchtext.data.BucketIterator(test,\n",
        "                                                 batch_size=100,\n",
        "                                                 sort_key=lambda x: len(x.sms),\n",
        "                                                 sort_within_batch=True,\n",
        "                                                 repeat=False)\n",
        "test_accuracy = get_accuracy(model4, test_loader,64)\n",
        "print(\"The test accuracy the model is:\", test_accuracy)\n"
      ]
    },
    {
      "cell_type": "code",
      "source": [
        "best_model = RNN1(input, 300, 2)\n",
        "best_model_path = \"model_{0}_bs{1}_lr{2}_epoch{3}.pth\".format(\"RNN\", 64, 0.0001, 11)\n",
        "state = torch.load(best_model_path)\n",
        "#best_model.load_state_dict(state)\n",
        "\n",
        "test_accuracy = get_accuracy(best_model, test_loader, 64)\n",
        "print(\"test accuracy is:\", test_accuracy)"
      ],
      "metadata": {
        "colab": {
          "base_uri": "https://localhost:8080/"
        },
        "id": "CqSrdQ30oqzT",
        "outputId": "51b809ed-2486-4fef-9a2d-23957f2d4236"
      },
      "execution_count": null,
      "outputs": [
        {
          "output_type": "stream",
          "name": "stdout",
          "text": [
            "test accuracy is: 0.15170556552962297\n"
          ]
        }
      ]
    },
    {
      "cell_type": "markdown",
      "metadata": {
        "id": "6Hjmd8rca91Y"
      },
      "source": [
        "### Part (b) [3 pt]\n",
        "\n",
        "Report the false positive rate and false negative rate of your model across the test set."
      ]
    },
    {
      "cell_type": "code",
      "execution_count": null,
      "metadata": {
        "collapsed": true,
        "id": "GFiAKztJa91Z",
        "jupyter": {
          "outputs_hidden": true
        },
        "colab": {
          "base_uri": "https://localhost:8080/"
        },
        "outputId": "804a69f1-ebe9-467c-9c89-58bf8316425a"
      },
      "outputs": [
        {
          "output_type": "stream",
          "name": "stdout",
          "text": [
            "The false positive rate: 0.0.\n",
            "The false negative rate: 1.0.\n"
          ]
        }
      ],
      "source": [
        "# Create a Dataset of only spam validation examples\n",
        "test_spam = torchtext.data.Dataset(\n",
        "    [e for e in test.examples if e.label == 1],\n",
        "    test.fields)\n",
        "\n",
        "ts = torchtext.data.BucketIterator(test_spam,\n",
        "                                           batch_size=32,\n",
        "                                           sort_key=lambda x: len(x.sms), # to minimize padding\n",
        "                                           sort_within_batch=True,        # sort within each batch\n",
        "                                           repeat=False)                  # repeat the iterator for many epochs\n",
        "\n",
        "# Create a Dataset of only non-spam validation examples\n",
        "test_nospam = torchtext.data.Dataset(\n",
        "    [e for e in test.examples if e.label == 0],\n",
        "    test.fields)\n",
        "\n",
        "tns = torchtext.data.BucketIterator(test_nospam,\n",
        "                                           batch_size=32,\n",
        "                                           sort_key=lambda x: len(x.sms), # to minimize padding\n",
        "                                           sort_within_batch=True,        # sort within each batch\n",
        "                                           repeat=False)                  # repeat the iterator for many epochs\n",
        "\n",
        "print(\"The false positive rate: {}.\".format(1 - get_accuracy(best_model, ts, 64)))\n",
        "print(\"The false negative rate: {}.\".format(1 - get_accuracy(best_model, tns, 64)))"
      ]
    },
    {
      "cell_type": "markdown",
      "metadata": {
        "id": "0jGHtQFpa91b"
      },
      "source": [
        "### Part (c) [3 pt]\n",
        "\n",
        "What is your model's prediction of the **probability** that\n",
        "the SMS message \"machine learning is sooo cool!\" is spam?\n",
        "\n",
        "Hint: To begin, use `text_field.vocab.stoi` to look up the index\n",
        "of each character in the vocabulary."
      ]
    },
    {
      "cell_type": "code",
      "execution_count": null,
      "metadata": {
        "collapsed": true,
        "id": "h_2nSJq8a91b",
        "jupyter": {
          "outputs_hidden": true
        },
        "colab": {
          "base_uri": "https://localhost:8080/"
        },
        "outputId": "b2fc7961-3288-4d9d-8db6-4a561cdf81d4"
      },
      "outputs": [
        {
          "output_type": "stream",
          "name": "stdout",
          "text": [
            "The probability that the message is spam: 0.4945877194404602\n"
          ]
        }
      ],
      "source": [
        "best_model = RNN1(input, 300, 2)\n",
        "best_model_path = \"model_{0}_bs{1}_lr{2}_epoch{3}.pth\".format(\"RNN\", 64, 0.0001, 11)\n",
        "state = torch.load(best_model_path)\n",
        "#best_model.load_state_dict(state)\n",
        "\n",
        "msg = \"machine learning is sooo cool!\"\n",
        "msg_indices = [text_field.vocab.stoi[char] for char in msg]\n",
        "\n",
        "# convert to tensor and add batch\n",
        "msg_tensor = torch.tensor(msg_indices).unsqueeze(0).to(device)\n",
        "\n",
        "# make prediction\n",
        "best_model.eval()\n",
        "output = best_model(msg_tensor)\n",
        "prob = F.softmax(output, dim=1)\n",
        "spam_prob = prob[0][1].item()\n",
        "\n",
        "print(\"The probability that the message is spam:\", spam_prob)"
      ]
    },
    {
      "cell_type": "markdown",
      "metadata": {
        "id": "QD1zgYJpa91f"
      },
      "source": [
        "### Part (d) [4 pt]\n",
        "\n",
        "Do you think detecting spam is an easy or difficult task?\n",
        "\n",
        "Since machine learning models are expensive to train and deploy, it is very\n",
        "important to compare our models against baseline models: a simple\n",
        "model that is easy to build and inexpensive to run that we can compare our\n",
        "recurrent neural network model against.\n",
        "\n",
        "Explain how you might build a simple baseline model. This baseline model\n",
        "can be a simple neural network (with very few weights), a hand-written algorithm,\n",
        "or any other strategy that is easy to build and test.\n",
        "\n",
        "**Do not actually build a baseline model. Instead, provide instructions on\n",
        "how to build it.**"
      ]
    },
    {
      "cell_type": "markdown",
      "source": [
        "Detecting spam can be pretty straightforward because spam messages often follow certain patterns. While complex models like recurrent neural networks (RNNs) can provide high accuracy, a simple baseline model is useful for initial comparisons and quick evaluations.\n",
        "\n",
        "To build a simple baseline model for spam detection, you could start with a word frequency analysis. Tokenize the SMS messages into words, and count the frequency of each word in both spam and non-spam datasets. Calculate a spam score for each word based on its frequency in spam messages compared to non-spam messages. You can then classify a message as spam if its total score exceeds a specfied limit.\n",
        "\n",
        "Similarly, you could also create a basic neural network with a minimal architecture. This network would have an input layer, a basic embedding layer to map words to vectors, and a simple output layer with a sigmoid activation function to predict spam probability. Train this network with a small number of epochs and a low learning rate."
      ],
      "metadata": {
        "id": "NrJM3rJur63L"
      }
    }
  ],
  "metadata": {
    "colab": {
      "provenance": []
    },
    "kernelspec": {
      "display_name": "Python 3 (ipykernel)",
      "language": "python",
      "name": "python3"
    },
    "language_info": {
      "codemirror_mode": {
        "name": "ipython",
        "version": 3
      },
      "file_extension": ".py",
      "mimetype": "text/x-python",
      "name": "python",
      "nbconvert_exporter": "python",
      "pygments_lexer": "ipython3",
      "version": "3.9.4"
    }
  },
  "nbformat": 4,
  "nbformat_minor": 0
}